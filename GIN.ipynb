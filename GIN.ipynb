{
 "cells": [
  {
   "cell_type": "code",
   "execution_count": 1,
   "metadata": {},
   "outputs": [],
   "source": [
    "import torch"
   ]
  },
  {
   "cell_type": "code",
   "execution_count": 2,
   "metadata": {},
   "outputs": [],
   "source": [
    "import networkx as nx\n",
    "\n",
    "%matplotlib inline"
   ]
  },
  {
   "cell_type": "code",
   "execution_count": 3,
   "metadata": {},
   "outputs": [],
   "source": [
    "import numpy as np"
   ]
  },
  {
   "cell_type": "code",
   "execution_count": 4,
   "metadata": {},
   "outputs": [],
   "source": [
    "class GINConv(torch.nn.Module):\n",
    "    def __init__(self, hidden_dim):\n",
    "        super().__init__()\n",
    "        \n",
    "        self.linear = torch.nn.Linear(hidden_dim, hidden_dim)\n",
    "\n",
    "\n",
    "    def forward(self, A, X):\n",
    "        \"\"\"\n",
    "        Params\n",
    "        ------\n",
    "            A [nodes x nodes]: adjacency matrix\n",
    "        \n",
    "            X [nodes x features]: node features matrix\n",
    "        \n",
    "        Returns\n",
    "        -------\n",
    "            X' [nodes x features]: updated node features matrix\n",
    "        \"\"\"\n",
    "        X = self.linear(X + A @ X)\n",
    "        X = torch.nn.functional.relu(X)\n",
    "        \n",
    "        return X"
   ]
  },
  {
   "cell_type": "code",
   "execution_count": 5,
   "metadata": {},
   "outputs": [
    {
     "name": "stderr",
     "output_type": "stream",
     "text": [
      "/home/matias/.pyenv/versions/3.7.3/lib/python3.7/site-packages/networkx/drawing/nx_pylab.py:579: MatplotlibDeprecationWarning: \n",
      "The iterable function was deprecated in Matplotlib 3.1 and will be removed in 3.3. Use np.iterable instead.\n",
      "  if not cb.iterable(width):\n"
     ]
    },
    {
     "data": {
      "image/png": "[encoded data removed]",
      "text/plain": [
       "<Figure size 432x288 with 1 Axes>"
      ]
     },
     "metadata": {},
     "output_type": "display_data"
    }
   ],
   "source": [
    "G = nx.binomial_graph(5,0.5)\n",
    "\n",
    "nx.draw(G)"
   ]
  },
  {
   "cell_type": "code",
   "execution_count": 6,
   "metadata": {},
   "outputs": [
    {
     "data": {
      "text/plain": [
       "tensor([[0., 0., 0., 0., 0.],\n",
       "        [0., 0., 0., 0., 0.],\n",
       "        [0., 0., 0., 0., 1.],\n",
       "        [0., 0., 0., 0., 1.],\n",
       "        [0., 0., 1., 1., 0.]])"
      ]
     },
     "execution_count": 6,
     "metadata": {},
     "output_type": "execute_result"
    }
   ],
   "source": [
    "A = torch.tensor( nx.adjacency_matrix(G).todense(), dtype=torch.float32 )\n",
    "\n",
    "A"
   ]
  },
  {
   "cell_type": "code",
   "execution_count": 70,
   "metadata": {},
   "outputs": [
    {
     "data": {
      "text/plain": [
       "tensor([[ 0.1727, -0.2404],\n",
       "        [-0.4266,  0.0049],\n",
       "        [-0.8128, -0.1084],\n",
       "        [ 1.0900,  0.9147],\n",
       "        [-0.3288,  0.1470]])"
      ]
     },
     "execution_count": 70,
     "metadata": {},
     "output_type": "execute_result"
    }
   ],
   "source": [
    "X = torch.randn(5,2)\n",
    "\n",
    "X"
   ]
  },
  {
   "cell_type": "code",
   "execution_count": 72,
   "metadata": {},
   "outputs": [
    {
     "data": {
      "text/plain": [
       "tensor([[0.3948, 0.0000],\n",
       "        [0.7098, 0.0000],\n",
       "        [0.9193, 0.0000],\n",
       "        [1.0761, 0.0000],\n",
       "        [1.2201, 0.0000]], grad_fn=<ReluBackward0>)"
      ]
     },
     "execution_count": 72,
     "metadata": {},
     "output_type": "execute_result"
    }
   ],
   "source": [
    "GINConv(2).forward(A,X)"
   ]
  },
  {
   "cell_type": "code",
   "execution_count": 75,
   "metadata": {},
   "outputs": [
    {
     "data": {
      "text/plain": [
       "tensor([[-0.3054,  0.7178, -0.3054,  0.7178]])"
      ]
     },
     "execution_count": 75,
     "metadata": {},
     "output_type": "execute_result"
    }
   ],
   "source": [
    "torch.cat([X,X],dim=1).sum(dim=0, keepdim=True)"
   ]
  },
  {
   "cell_type": "code",
   "execution_count": 65,
   "metadata": {},
   "outputs": [],
   "source": [
    "import torch.utils.data\n",
    "\n",
    "import importlib  \n",
    "gnns = importlib.import_module('powerful-gnns.util')\n",
    "\n",
    "class GraphDataset(torch.utils.data.Dataset):\n",
    "    \"\"\" Levanta los datasets de Powerful-GNNS. \"\"\"\n",
    "    \n",
    "    def __init__(self, dataset='PROTEINS', degree_as_tag=False):\n",
    "        self.data = gnns.load_data(dataset, degree_as_tag)[0]\n",
    "        \n",
    "    def __len__(self):\n",
    "        return len(self.data)\n",
    "    \n",
    "    def __getitem__(self, idx):\n",
    "        item = {}\n",
    "        \n",
    "        item['node_features'] = self.data[idx].node_features\n",
    "        item['adjacency_matrix'] = torch.tensor(nx.adjacency_matrix( self.data[idx].g ).todense(), dtype=torch.float32)\n",
    "        item['class'] = self.data[idx].label\n",
    "        \n",
    "        return item"
   ]
  },
  {
   "cell_type": "code",
   "execution_count": 108,
   "metadata": {},
   "outputs": [],
   "source": [
    "class GNN(torch.nn.Module):\n",
    "    \n",
    "    def __init__(self, input_dim, hidden_dim, output_dim, n_layers):\n",
    "        super().__init__()\n",
    "        \n",
    "        self.in_proj = torch.nn.Linear(input_dim, hidden_dim)\n",
    "        \n",
    "        self.convs = torch.nn.ModuleList()\n",
    "        \n",
    "        for _ in range(n_layers):\n",
    "            self.convs.append(GINConv(hidden_dim))\n",
    "        \n",
    "        # In order to perform graph classification, each hidden state\n",
    "        # [nodes x hidden_dim] is aggregated along nodes dimension,\n",
    "        # resulting in [hidden_dim], concatenated [hidden_dim x (1+n_layers)]\n",
    "        # and then fed to the output layer.\n",
    "        self.out_proj = torch.nn.Linear(hidden_dim*(1+n_layers), output_dim)\n",
    "\n",
    "\n",
    "    def forward(self, A, X):\n",
    "        X = self.in_proj(X)\n",
    "\n",
    "        hidden_states = [X]\n",
    "        \n",
    "        for layer in self.convs:\n",
    "            X = layer(A, X)\n",
    "            hidden_states.append(X)\n",
    "\n",
    "        X = torch.cat(hidden_states, dim=2).sum(dim=1)\n",
    "\n",
    "        X = self.out_proj(X)\n",
    "\n",
    "        return X"
   ]
  },
  {
   "cell_type": "code",
   "execution_count": 109,
   "metadata": {},
   "outputs": [],
   "source": [
    "model = GNN(input_dim=3, hidden_dim=2, output_dim=2, n_layers=1)\n",
    "\n",
    "criterion = torch.nn.CrossEntropyLoss()\n",
    "optimizer = torch.optim.Adam(model.parameters(), lr=0.01)"
   ]
  },
  {
   "cell_type": "code",
   "execution_count": 66,
   "metadata": {},
   "outputs": [
    {
     "name": "stdout",
     "output_type": "stream",
     "text": [
      "loading data\n",
      "# classes: 2\n",
      "# maximum node tag: 3\n",
      "# data: 1113\n"
     ]
    }
   ],
   "source": [
    "ds = GraphDataset()"
   ]
  },
  {
   "cell_type": "code",
   "execution_count": 96,
   "metadata": {},
   "outputs": [],
   "source": [
    "def collate_fn(batch):\n",
    "    pass\n",
    "\n",
    "dl = torch.utils.data.DataLoader(ds)"
   ]
  },
  {
   "cell_type": "code",
   "execution_count": 110,
   "metadata": {},
   "outputs": [
    {
     "name": "stdout",
     "output_type": "stream",
     "text": [
      "[1,    20] loss: 161.581\n",
      "[1,    40] loss: 0.545\n",
      "[1,    60] loss: 0.500\n",
      "[1,    80] loss: 0.751\n",
      "[1,   100] loss: 0.516\n",
      "[1,   120] loss: 0.239\n",
      "[1,   140] loss: 0.168\n",
      "[1,   160] loss: 0.037\n",
      "[1,   180] loss: 0.208\n",
      "[1,   200] loss: 0.090\n",
      "[1,   220] loss: 0.169\n",
      "[1,   240] loss: 0.078\n",
      "[1,   260] loss: 0.068\n",
      "[1,   280] loss: 0.011\n",
      "[1,   300] loss: 0.025\n",
      "[1,   320] loss: 0.051\n",
      "[1,   340] loss: 0.088\n",
      "[1,   360] loss: 0.208\n",
      "[1,   380] loss: 0.092\n",
      "[1,   400] loss: 0.146\n",
      "[1,   420] loss: 0.423\n",
      "[1,   440] loss: 0.034\n",
      "[1,   460] loss: 0.242\n",
      "[1,   480] loss: 0.017\n",
      "[1,   500] loss: 0.012\n",
      "[1,   520] loss: 0.090\n",
      "[1,   540] loss: 0.024\n",
      "[1,   560] loss: 0.179\n",
      "[1,   580] loss: 0.061\n",
      "[1,   600] loss: 0.004\n",
      "[1,   620] loss: 0.035\n",
      "[1,   640] loss: 0.012\n",
      "[1,   660] loss: 0.016\n",
      "[1,   680] loss: 80.375\n",
      "[1,   700] loss: 22.443\n",
      "[1,   720] loss: 1.072\n",
      "[1,   740] loss: 0.587\n",
      "[1,   760] loss: 0.545\n",
      "[1,   780] loss: 0.244\n",
      "[1,   800] loss: 0.300\n",
      "[1,   820] loss: 0.278\n",
      "[1,   840] loss: 0.274\n",
      "[1,   860] loss: 0.364\n",
      "[1,   880] loss: 0.510\n",
      "[1,   900] loss: 0.447\n",
      "[1,   920] loss: 0.282\n",
      "[1,   940] loss: 0.321\n",
      "[1,   960] loss: 0.403\n",
      "[1,   980] loss: 0.268\n",
      "[1,  1000] loss: 0.101\n",
      "[1,  1020] loss: 0.208\n",
      "[1,  1040] loss: 0.110\n",
      "[1,  1060] loss: 0.451\n",
      "[1,  1080] loss: 0.208\n",
      "[1,  1100] loss: 0.206\n",
      "Finished Training\n"
     ]
    }
   ],
   "source": [
    "for epoch in range(1):  # loop over the dataset multiple times\n",
    "\n",
    "    running_loss = 0.0\n",
    "    for i, data in enumerate(dl):\n",
    "\n",
    "        # zero the parameter gradients\n",
    "        optimizer.zero_grad()\n",
    "\n",
    "        # forward + backward + optimize\n",
    "        outputs = model(data['adjacency_matrix'],data['node_features'])\n",
    "        loss = criterion(outputs, data['class'])\n",
    "        loss.backward()\n",
    "        optimizer.step()\n",
    "\n",
    "        # print statistics\n",
    "        running_loss += loss.item()\n",
    "        if i % 20 == 19:    # print every 2000 mini-batches\n",
    "            print('[%d, %5d] loss: %.3f' %\n",
    "                  (epoch + 1, i + 1, running_loss))\n",
    "            running_loss = 0.0\n",
    "\n",
    "print('Finished Training')"
   ]
  },
  {
   "cell_type": "code",
   "execution_count": null,
   "metadata": {},
   "outputs": [],
   "source": []
  }
 ],
 "metadata": {
  "kernelspec": {
   "display_name": "Python 3",
   "language": "python",
   "name": "python3"
  },
  "language_info": {
   "codemirror_mode": {
    "name": "ipython",
    "version": 3
   },
   "file_extension": ".py",
   "mimetype": "text/x-python",
   "name": "python",
   "nbconvert_exporter": "python",
   "pygments_lexer": "ipython3",
   "version": "3.7.3"
  }
 },
 "nbformat": 4,
 "nbformat_minor": 4
}
